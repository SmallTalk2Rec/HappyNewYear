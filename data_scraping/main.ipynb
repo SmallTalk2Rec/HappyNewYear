{
 "cells": [
  {
   "cell_type": "markdown",
   "metadata": {},
   "source": [
    "# movie id 구하기 (custom-movie-rating)\n",
    "유저 rating 페이지에서 id구하기"
   ]
  },
  {
   "cell_type": "code",
   "execution_count": null,
   "metadata": {},
   "outputs": [],
   "source": [
    "from data_scraping.assets.utils.selenium_driver import get_driver, scroll_to_end\n",
    "from bs4 import BeautifulSoup\n",
    "from lxml import etree\n",
    "\n",
    "\n",
    "driver = get_driver(chrome_driver_path='./chromedriver-mac-arm64/chromedriver',\n",
    "                    use_headless=True)"
   ]
  },
  {
   "cell_type": "code",
   "execution_count": 4,
   "metadata": {},
   "outputs": [],
   "source": [
    "custom_id = \"ZBm5R0Mj7qd46\""
   ]
  },
  {
   "cell_type": "code",
   "execution_count": null,
   "metadata": {},
   "outputs": [],
   "source": [
    "driver.get(f'https://pedia.watcha.com/ko-KR/users/{custom_id}/contents/movies/ratings')"
   ]
  },
  {
   "cell_type": "code",
   "execution_count": 6,
   "metadata": {},
   "outputs": [
    {
     "name": "stdout",
     "output_type": "stream",
     "text": [
      "Scroll down end\n"
     ]
    }
   ],
   "source": [
    "scroll_to_end(driver, verbose=True, max_n_retries=10, delay=1)"
   ]
  },
  {
   "cell_type": "code",
   "execution_count": null,
   "metadata": {},
   "outputs": [],
   "source": [
    "# 2. 페이지의 HTML 가져오기\n",
    "html_source = driver.page_source\n",
    "\n",
    "# 3. BeautifulSoup으로 HTML 파싱\n",
    "soup = BeautifulSoup(html_source, 'html.parser')\n",
    "\n",
    "# 4. BeautifulSoup 객체를 lxml로 변환\n",
    "tree = etree.HTML(str(soup))"
   ]
  },
  {
   "cell_type": "code",
   "execution_count": 8,
   "metadata": {},
   "outputs": [],
   "source": [
    "from assets.utils.re import extract_number\n",
    "from assets.utils.txt import append_to_txt"
   ]
  },
  {
   "cell_type": "code",
   "execution_count": 9,
   "metadata": {},
   "outputs": [
    {
     "name": "stdout",
     "output_type": "stream",
     "text": [
      "list index out of range\n"
     ]
    }
   ],
   "source": [
    "data_list = []\n",
    "\n",
    "i = 1\n",
    "\n",
    "while True:\n",
    "    try:\n",
    "        movie_id = tree.xpath(f'//*[@id=\"root\"]/div[1]/section/section/div[1]/section/div[1]/div/ul/li[{i}]/a/@href')[0].split('/')[-1]\n",
    "        movie_name = tree.xpath(f'//*[@id=\"root\"]/div[1]/section/section/div[1]/section/div[1]/div/ul/li[{i}]/a/div[2]/div[1]/text()')[0]\n",
    "        movie_rate = extract_number(tree.xpath(f'//*[@id=\"root\"]/div[1]/section/section/div[1]/section/div[1]/div/ul/li[{i}]/a/div[2]/div[2]/text()')[0])\n",
    "        \n",
    "        data = [movie_id, movie_name, movie_rate]\n",
    "        data_list.append(data)\n",
    "        i += 1\n",
    "    except Exception as e:\n",
    "        print(e)\n",
    "        break"
   ]
  },
  {
   "cell_type": "code",
   "execution_count": 10,
   "metadata": {},
   "outputs": [],
   "source": [
    "for data in data_list:\n",
    "    append_to_txt(\"./data/custom_movie_rating.txt\", data)"
   ]
  },
  {
   "cell_type": "code",
   "execution_count": null,
   "metadata": {},
   "outputs": [],
   "source": []
  },
  {
   "cell_type": "markdown",
   "metadata": {},
   "source": [
    "## 정리"
   ]
  },
  {
   "cell_type": "code",
   "execution_count": null,
   "metadata": {},
   "outputs": [],
   "source": [
    "from assets.utils.txt import append_to_txt\n",
    "from data_scraping.assets.utils.selenium_driver import get_driver\n",
    "from assets.scraping.watcha.custom_movie_rating import get_custom_movie_rating"
   ]
  },
  {
   "cell_type": "code",
   "execution_count": null,
   "metadata": {},
   "outputs": [
    {
     "name": "stdout",
     "output_type": "stream",
     "text": [
      "Scroll down 0\r"
     ]
    }
   ],
   "source": [
    "driver = get_driver(chrome_driver_path='./chromedriver-mac-arm64/chromedriver',\n",
    "                    use_headless=True)\n",
    "custom_id = \"ZBm5R0Mj7qd46\"\n",
    "data_list = get_custom_movie_rating(driver, custom_id)"
   ]
  },
  {
   "cell_type": "code",
   "execution_count": 3,
   "metadata": {},
   "outputs": [],
   "source": [
    "for data in data_list:\n",
    "    append_to_txt(\"./data/custom_movie_rating.txt\", [custom_id, *data])"
   ]
  },
  {
   "cell_type": "markdown",
   "metadata": {},
   "source": [
    "# movie 정보 가져오기"
   ]
  },
  {
   "cell_type": "code",
   "execution_count": null,
   "metadata": {},
   "outputs": [],
   "source": [
    "from data_scraping.assets.utils.selenium_driver import get_driver\n",
    "import time\n",
    "\n",
    "driver = get_driver(chrome_driver_path='./chromedriver-mac-arm64/chromedriver',\n",
    "                    use_headless=True)"
   ]
  },
  {
   "cell_type": "code",
   "execution_count": 1,
   "metadata": {},
   "outputs": [],
   "source": [
    "movie_id = \"mWz31jD\"\n",
    "movie_url = f\"https://pedia.watcha.com/ko-KR/contents/{movie_id}\""
   ]
  },
  {
   "cell_type": "code",
   "execution_count": 10,
   "metadata": {},
   "outputs": [],
   "source": [
    "driver.get(movie_url)\n",
    "time.sleep(3)"
   ]
  },
  {
   "cell_type": "code",
   "execution_count": null,
   "metadata": {},
   "outputs": [],
   "source": [
    "import time\n",
    "from data_scraping.assets.utils.selenium_driver import get_text_by_xpath, scroll_to_end, get_button, open_new_tab\n",
    "\n",
    "# 팝업 창 뜨면 없애기\n",
    "try:\n",
    "    get_button(driver, \"hsDVweTz\", by='class_name').click()\n",
    "except:\n",
    "    pass"
   ]
  },
  {
   "cell_type": "code",
   "execution_count": 12,
   "metadata": {},
   "outputs": [],
   "source": [
    "from bs4 import BeautifulSoup\n",
    "from lxml import etree\n",
    "\n",
    "# 2. 페이지의 HTML 가져오기\n",
    "html_source = driver.page_source\n",
    "\n",
    "# 3. BeautifulSoup으로 HTML 파싱\n",
    "soup = BeautifulSoup(html_source, 'html.parser')\n",
    "\n",
    "# 4. BeautifulSoup 객체를 lxml로 변환\n",
    "tree = etree.HTML(str(soup))"
   ]
  },
  {
   "cell_type": "code",
   "execution_count": 5,
   "metadata": {},
   "outputs": [
    {
     "ename": "IndexError",
     "evalue": "list index out of range",
     "output_type": "error",
     "traceback": [
      "\u001b[0;31m---------------------------------------------------------------------------\u001b[0m",
      "\u001b[0;31mIndexError\u001b[0m                                Traceback (most recent call last)",
      "Cell \u001b[0;32mIn[5], line 1\u001b[0m\n\u001b[0;32m----> 1\u001b[0m title \u001b[38;5;241m=\u001b[39m \u001b[43mtree\u001b[49m\u001b[38;5;241;43m.\u001b[39;49m\u001b[43mxpath\u001b[49m\u001b[43m(\u001b[49m\u001b[38;5;124;43m'\u001b[39;49m\u001b[38;5;124;43m//*[@id=\u001b[39;49m\u001b[38;5;124;43m\"\u001b[39;49m\u001b[38;5;124;43mroot\u001b[39;49m\u001b[38;5;124;43m\"\u001b[39;49m\u001b[38;5;124;43m]/div[1]/section/div/div[2]/div/div/div[1]/div[2]/div/h1/text()\u001b[39;49m\u001b[38;5;124;43m'\u001b[39;49m\u001b[43m)\u001b[49m\u001b[43m[\u001b[49m\u001b[38;5;241;43m0\u001b[39;49m\u001b[43m]\u001b[49m\n\u001b[1;32m      2\u001b[0m movie_info \u001b[38;5;241m=\u001b[39m tree\u001b[38;5;241m.\u001b[39mxpath(\u001b[38;5;124m'\u001b[39m\u001b[38;5;124m//*[@id=\u001b[39m\u001b[38;5;124m\"\u001b[39m\u001b[38;5;124mroot\u001b[39m\u001b[38;5;124m\"\u001b[39m\u001b[38;5;124m]/div[1]/section/div/div[2]/div/div/div[1]/div[2]/div/div[2]/text()\u001b[39m\u001b[38;5;124m'\u001b[39m)[\u001b[38;5;241m0\u001b[39m]\u001b[38;5;241m.\u001b[39msplit(\u001b[38;5;124m'\u001b[39m\u001b[38;5;124m·\u001b[39m\u001b[38;5;124m'\u001b[39m)\n\u001b[1;32m      3\u001b[0m year, genre, country \u001b[38;5;241m=\u001b[39m [item\u001b[38;5;241m.\u001b[39mstrip() \u001b[38;5;28;01mfor\u001b[39;00m item \u001b[38;5;129;01min\u001b[39;00m movie_info]\n",
      "\u001b[0;31mIndexError\u001b[0m: list index out of range"
     ]
    }
   ],
   "source": [
    "title = tree.xpath('//*[@id=\"root\"]/div[1]/section/div/div[2]/div/div/div[1]/div[2]/div/h1/text()')[0]\n",
    "movie_info = tree.xpath('//*[@id=\"root\"]/div[1]/section/div/div[2]/div/div/div[1]/div[2]/div/div[2]/text()')[0].split('·')\n",
    "year, genre, country = [item.strip() for item in movie_info]\n",
    "movie_info2 = tree.xpath('//*[@id=\"root\"]/div[1]/section/div/div[2]/div/div/div[1]/div[2]/div/div[3]/text()')[0].split('·')\n",
    "if len(movie_info2) == 1:\n",
    "    runtime = [item.strip() for item in movie_info2]\n",
    "else:\n",
    "    runtime, age = [item.strip() for item in movie_info2]"
   ]
  },
  {
   "cell_type": "code",
   "execution_count": 7,
   "metadata": {},
   "outputs": [
    {
     "name": "stdout",
     "output_type": "stream",
     "text": [
      "list index out of range\n"
     ]
    }
   ],
   "source": [
    "# 출연/제작 정보\n",
    "i = 1\n",
    "cast_production_info_list = []\n",
    "\n",
    "while True:\n",
    "   try:\n",
    "      name = tree.xpath(f'//*[@id=\"content_credits\"]/section/div[1]/ul/li[{i}]/a/div[2]/div[1]/div[1]/text()')[0]\n",
    "      role = tree.xpath(f'//*[@id=\"content_credits\"]/section/div[1]/ul/li[{i}]/a/div[2]/div[1]/div[2]/text()')[0]\n",
    "      \n",
    "      cast_production_info_list.append((name, role))\n",
    "      i += 1\n",
    "   except Exception as e:\n",
    "      print(e)\n",
    "      break"
   ]
  },
  {
   "cell_type": "code",
   "execution_count": 8,
   "metadata": {},
   "outputs": [],
   "source": [
    "synopsis = tree.xpath('//*[@id=\"root\"]/div[1]/section/div/div[2]/div/div/div[2]/section[1]/div[2]/section[3]/p/text()')[0]"
   ]
  },
  {
   "cell_type": "code",
   "execution_count": 11,
   "metadata": {},
   "outputs": [
    {
     "data": {
      "text/plain": [
       "'1979년 12월 12일, 수도 서울 군사반란 발생\\n그날, 대한민국의 운명이 바뀌었다.\\n\\n대한민국을 뒤흔든 10월 26일 이후, 서울에 새로운 바람이 불어온 것도 잠시 12월 12일, 보안사령관 전두광이 반란을 일으키고 군 내 사조직을 총동원하여 최전선의 전방부대까지 서울로 불러들인다. 권력에 눈이 먼 전두광의 반란군과 이에 맞선 수도경비사령관 이태신을 비롯한 진압군 사이, 일촉즉발의 9시간이 흘러가는데…\\n\\xa0\\xa0\\n목숨을 건 두 세력의 팽팽한 대립\\n오늘 밤, 대한민국 수도에서 가장 치열한 전쟁이 펼쳐진다!\\n\\n1979년 10월 26일 이후 합동수사본부장에 오른 전두광 보안사령관(황정민)은 권력을 장악하기 위해 12월 12일 정 총장을 전격 연행 후 군사반란을 일으킨다. 이를 막으려는 수도경비사령관 이태신 소장(정우성)의 진압군이 출동하며 숨 막히는 9시간의 대치가 이뤄진다. 김성수 감독의 <서울의 봄>처럼 12월 12일 군사반란의 밤 그 자체를 자세히 다룬 작품은 없었다. ‘성공한 쿠데타’라는 쓰라린 기억을 전면에 부각시킨다는 위험부담에도 불구하고 <서울의 봄>은 그 난감한 작업을 정면 돌파한다. <아수라>(2016) 이후 7년 만에 돌아온 김성수 감독은 군사 시뮬레이션을 방불케 하는 촘촘한 플롯과 속도감 넘치는 편집, 균형을 잃지 않으면서도 분노를 간직한 시선, 배우들의 호연을 한데 모아 아픈 역사를 생생하게 되살려낸다. (송경원) [제29회 부산국제영화제]'"
      ]
     },
     "execution_count": 11,
     "metadata": {},
     "output_type": "execute_result"
    }
   ],
   "source": [
    "synopsis"
   ]
  },
  {
   "cell_type": "code",
   "execution_count": 15,
   "metadata": {},
   "outputs": [
    {
     "data": {
      "text/plain": [
       "[]"
      ]
     },
     "execution_count": 15,
     "metadata": {},
     "output_type": "execute_result"
    }
   ],
   "source": [
    "tree.xpath('//*[@id=\"root\"]/div[1]/section/div/div[2]/div/div/div[2]/section[1]/div[1]/section/span/strong/text()')"
   ]
  },
  {
   "cell_type": "code",
   "execution_count": 16,
   "metadata": {},
   "outputs": [
    {
     "data": {
      "text/plain": [
       "'2.4'"
      ]
     },
     "execution_count": 16,
     "metadata": {},
     "output_type": "execute_result"
    }
   ],
   "source": [
    "avg_rating"
   ]
  },
  {
   "cell_type": "code",
   "execution_count": 14,
   "metadata": {},
   "outputs": [
    {
     "ename": "IndexError",
     "evalue": "list index out of range",
     "output_type": "error",
     "traceback": [
      "\u001b[0;31m---------------------------------------------------------------------------\u001b[0m",
      "\u001b[0;31mIndexError\u001b[0m                                Traceback (most recent call last)",
      "Cell \u001b[0;32mIn[14], line 2\u001b[0m\n\u001b[1;32m      1\u001b[0m avg_rating \u001b[38;5;241m=\u001b[39m tree\u001b[38;5;241m.\u001b[39mxpath(\u001b[38;5;124m'\u001b[39m\u001b[38;5;124m//*[@id=\u001b[39m\u001b[38;5;124m\"\u001b[39m\u001b[38;5;124mroot\u001b[39m\u001b[38;5;124m\"\u001b[39m\u001b[38;5;124m]/div[1]/section/div/div[2]/div/div/div[2]/section[1]/div[2]/section[1]/div[2]/div/div[1]/text()\u001b[39m\u001b[38;5;124m'\u001b[39m)[\u001b[38;5;241m0\u001b[39m]\n\u001b[0;32m----> 2\u001b[0m n_rating \u001b[38;5;241m=\u001b[39m \u001b[43mtree\u001b[49m\u001b[38;5;241;43m.\u001b[39;49m\u001b[43mxpath\u001b[49m\u001b[43m(\u001b[49m\u001b[38;5;124;43m'\u001b[39;49m\u001b[38;5;124;43m//*[@id=\u001b[39;49m\u001b[38;5;124;43m\"\u001b[39;49m\u001b[38;5;124;43mroot\u001b[39;49m\u001b[38;5;124;43m\"\u001b[39;49m\u001b[38;5;124;43m]/div[1]/section/div/div[2]/div/div/div[2]/section[1]/div[1]/section/span/strong/text()\u001b[39;49m\u001b[38;5;124;43m'\u001b[39;49m\u001b[43m)\u001b[49m\u001b[43m[\u001b[49m\u001b[38;5;241;43m1\u001b[39;49m\u001b[43m]\u001b[49m\n\u001b[1;32m      3\u001b[0m n_comments \u001b[38;5;241m=\u001b[39m tree\u001b[38;5;241m.\u001b[39mxpath(\u001b[38;5;124m'\u001b[39m\u001b[38;5;124m/html/body/div[1]/div[1]/section/div/div[2]/section/section[2]/header/span/text()\u001b[39m\u001b[38;5;124m'\u001b[39m)[\u001b[38;5;241m0\u001b[39m]\n",
      "\u001b[0;31mIndexError\u001b[0m: list index out of range"
     ]
    }
   ],
   "source": [
    "avg_rating = tree.xpath('//*[@id=\"root\"]/div[1]/section/div/div[2]/div/div/div[2]/section[1]/div[2]/section[1]/div[2]/div/div[1]/text()')[0]\n",
    "n_rating = tree.xpath('//*[@id=\"root\"]/div[1]/section/div/div[2]/div/div/div[2]/section[1]/div[1]/section/span/strong/text()')[1]\n",
    "n_comments = tree.xpath('/html/body/div[1]/div[1]/section/div/div[2]/section/section[2]/header/span/text()')[0]"
   ]
  },
  {
   "cell_type": "code",
   "execution_count": 13,
   "metadata": {},
   "outputs": [
    {
     "data": {
      "text/plain": [
       "'1979년 12월 12일, 수도 서울 군사반란 발생그날, 대한민국의 운명이 바뀌었다.대한민국을 뒤흔든 10월 26일 이후, 서울에 새로운 바람이 불어온 것도 잠시 12월 12일, 보안사령관 전두광이 반란을 일으키고 군 내 사조직을 총동원하여 최전선의 전방부대까지 서울로 불러들인다. 권력에 눈이 먼 전두광의 반란군과 이에 맞선 수도경비사령관 이태신을 비롯한 진압군 사이, 일촉즉발의 9시간이 흘러가는데…\\xa0\\xa0목숨을 건 두 세력의 팽팽한 대립오늘 밤, 대한민국 수도에서 가장 치열한 전쟁이 펼쳐진다!1979년 10월 26일 이후 합동수사본부장에 오른 전두광 보안사령관(황정민)은 권력을 장악하기 위해 12월 12일 정 총장을 전격 연행 후 군사반란을 일으킨다. 이를 막으려는 수도경비사령관 이태신 소장(정우성)의 진압군이 출동하며 숨 막히는 9시간의 대치가 이뤄진다. 김성수 감독의 <서울의 봄>처럼 12월 12일 군사반란의 밤 그 자체를 자세히 다룬 작품은 없었다. ‘성공한 쿠데타’라는 쓰라린 기억을 전면에 부각시킨다는 위험부담에도 불구하고 <서울의 봄>은 그 난감한 작업을 정면 돌파한다. <아수라>(2016) 이후 7년 만에 돌아온 김성수 감독은 군사 시뮬레이션을 방불케 하는 촘촘한 플롯과 속도감 넘치는 편집, 균형을 잃지 않으면서도 분노를 간직한 시선, 배우들의 호연을 한데 모아 아픈 역사를 생생하게 되살려낸다. (송경원) [제29회 부산국제영화제]'"
      ]
     },
     "execution_count": 13,
     "metadata": {},
     "output_type": "execute_result"
    }
   ],
   "source": [
    "synopsis.replace('\\n', '')"
   ]
  },
  {
   "cell_type": "markdown",
   "metadata": {},
   "source": [
    "## 정리"
   ]
  },
  {
   "cell_type": "code",
   "execution_count": 1,
   "metadata": {},
   "outputs": [
    {
     "name": "stdout",
     "output_type": "stream",
     "text": [
      "Intel MKL WARNING: Support of Intel(R) Streaming SIMD Extensions 4.2 (Intel(R) SSE4.2) enabled only processors has been deprecated. Intel oneAPI Math Kernel Library 2025.0 will require Intel(R) Advanced Vector Extensions (Intel(R) AVX) instructions.\n",
      "Intel MKL WARNING: Support of Intel(R) Streaming SIMD Extensions 4.2 (Intel(R) SSE4.2) enabled only processors has been deprecated. Intel oneAPI Math Kernel Library 2025.0 will require Intel(R) Advanced Vector Extensions (Intel(R) AVX) instructions.\n"
     ]
    },
    {
     "data": {
      "text/html": [
       "<div>\n",
       "<style scoped>\n",
       "    .dataframe tbody tr th:only-of-type {\n",
       "        vertical-align: middle;\n",
       "    }\n",
       "\n",
       "    .dataframe tbody tr th {\n",
       "        vertical-align: top;\n",
       "    }\n",
       "\n",
       "    .dataframe thead th {\n",
       "        text-align: right;\n",
       "    }\n",
       "</style>\n",
       "<table border=\"1\" class=\"dataframe\">\n",
       "  <thead>\n",
       "    <tr style=\"text-align: right;\">\n",
       "      <th></th>\n",
       "      <th>CustomID</th>\n",
       "      <th>MovieID</th>\n",
       "      <th>MovieName</th>\n",
       "      <th>Rating</th>\n",
       "    </tr>\n",
       "  </thead>\n",
       "  <tbody>\n",
       "    <tr>\n",
       "      <th>0</th>\n",
       "      <td>ZBm5R0Mj7qd46</td>\n",
       "      <td>m5XKVDL</td>\n",
       "      <td>양자물리학</td>\n",
       "      <td>3.0</td>\n",
       "    </tr>\n",
       "    <tr>\n",
       "      <th>1</th>\n",
       "      <td>ZBm5R0Mj7qd46</td>\n",
       "      <td>m5Nn2GE</td>\n",
       "      <td>영화로운 작음</td>\n",
       "      <td>3.5</td>\n",
       "    </tr>\n",
       "    <tr>\n",
       "      <th>2</th>\n",
       "      <td>ZBm5R0Mj7qd46</td>\n",
       "      <td>mWvq0vZ</td>\n",
       "      <td>내 방</td>\n",
       "      <td>2.5</td>\n",
       "    </tr>\n",
       "    <tr>\n",
       "      <th>3</th>\n",
       "      <td>ZBm5R0Mj7qd46</td>\n",
       "      <td>mdKpyBk</td>\n",
       "      <td>성적표의 김민영</td>\n",
       "      <td>3.0</td>\n",
       "    </tr>\n",
       "    <tr>\n",
       "      <th>4</th>\n",
       "      <td>ZBm5R0Mj7qd46</td>\n",
       "      <td>mOopbwm</td>\n",
       "      <td>킹덤4: 대장군의 귀환</td>\n",
       "      <td>3.0</td>\n",
       "    </tr>\n",
       "    <tr>\n",
       "      <th>...</th>\n",
       "      <td>...</td>\n",
       "      <td>...</td>\n",
       "      <td>...</td>\n",
       "      <td>...</td>\n",
       "    </tr>\n",
       "    <tr>\n",
       "      <th>3068</th>\n",
       "      <td>ZBm5R0Mj7qd46</td>\n",
       "      <td>m5ZXrxO</td>\n",
       "      <td>아저씨</td>\n",
       "      <td>4.0</td>\n",
       "    </tr>\n",
       "    <tr>\n",
       "      <th>3069</th>\n",
       "      <td>ZBm5R0Mj7qd46</td>\n",
       "      <td>mOPolaW</td>\n",
       "      <td>13층</td>\n",
       "      <td>3.0</td>\n",
       "    </tr>\n",
       "    <tr>\n",
       "      <th>3070</th>\n",
       "      <td>ZBm5R0Mj7qd46</td>\n",
       "      <td>m5XMeBW</td>\n",
       "      <td>아이언맨</td>\n",
       "      <td>4.0</td>\n",
       "    </tr>\n",
       "    <tr>\n",
       "      <th>3071</th>\n",
       "      <td>ZBm5R0Mj7qd46</td>\n",
       "      <td>m5GXE2W</td>\n",
       "      <td>닌자 어쌔신</td>\n",
       "      <td>3.0</td>\n",
       "    </tr>\n",
       "    <tr>\n",
       "      <th>3072</th>\n",
       "      <td>ZBm5R0Mj7qd46</td>\n",
       "      <td>m5QjklW</td>\n",
       "      <td>퀵</td>\n",
       "      <td>2.0</td>\n",
       "    </tr>\n",
       "  </tbody>\n",
       "</table>\n",
       "<p>3073 rows × 4 columns</p>\n",
       "</div>"
      ],
      "text/plain": [
       "           CustomID  MovieID     MovieName  Rating\n",
       "0     ZBm5R0Mj7qd46  m5XKVDL         양자물리학     3.0\n",
       "1     ZBm5R0Mj7qd46  m5Nn2GE       영화로운 작음     3.5\n",
       "2     ZBm5R0Mj7qd46  mWvq0vZ           내 방     2.5\n",
       "3     ZBm5R0Mj7qd46  mdKpyBk      성적표의 김민영     3.0\n",
       "4     ZBm5R0Mj7qd46  mOopbwm  킹덤4: 대장군의 귀환     3.0\n",
       "...             ...      ...           ...     ...\n",
       "3068  ZBm5R0Mj7qd46  m5ZXrxO           아저씨     4.0\n",
       "3069  ZBm5R0Mj7qd46  mOPolaW           13층     3.0\n",
       "3070  ZBm5R0Mj7qd46  m5XMeBW          아이언맨     4.0\n",
       "3071  ZBm5R0Mj7qd46  m5GXE2W        닌자 어쌔신     3.0\n",
       "3072  ZBm5R0Mj7qd46  m5QjklW             퀵     2.0\n",
       "\n",
       "[3073 rows x 4 columns]"
      ]
     },
     "execution_count": 1,
     "metadata": {},
     "output_type": "execute_result"
    }
   ],
   "source": [
    "import pandas as pd\n",
    "\n",
    "# 지정할 열 이름\n",
    "column_names = [\"CustomID\", \"MovieID\", \"MovieName\", \"Rating\"]\n",
    "\n",
    "# 데이터 읽기\n",
    "df = pd.read_csv('./data/custom_movie_rating.txt', sep='/', header=None, names=column_names, encoding='utf-8')\n",
    "df"
   ]
  },
  {
   "cell_type": "code",
   "execution_count": null,
   "metadata": {},
   "outputs": [],
   "source": []
  }
 ],
 "metadata": {
  "kernelspec": {
   "display_name": "chatbot_3.10.8",
   "language": "python",
   "name": "python3"
  },
  "language_info": {
   "codemirror_mode": {
    "name": "ipython",
    "version": 3
   },
   "file_extension": ".py",
   "mimetype": "text/x-python",
   "name": "python",
   "nbconvert_exporter": "python",
   "pygments_lexer": "ipython3",
   "version": "3.10.15"
  }
 },
 "nbformat": 4,
 "nbformat_minor": 2
}
