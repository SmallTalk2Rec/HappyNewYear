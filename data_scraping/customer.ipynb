{
 "cells": [
  {
   "cell_type": "markdown",
   "metadata": {},
   "source": [
    "## 고객번호 리스트를 어떻게 구하지?\n",
    "\n",
    "> 영화의 리뷰 리스트를 구하고, 거기 있는 리뷰어들의 id를 사용해야겠다."
   ]
  },
  {
   "cell_type": "code",
   "execution_count": 2,
   "metadata": {},
   "outputs": [],
   "source": [
    "from assets.utils.driver import get_driver, get_text_by_xpath, get_button, open_new_tab, scroll_to_end\n",
    "\n",
    "driver = get_driver(use_headless=True, chrome_driver_path='./chromedriver-mac-arm64/chromedriver')"
   ]
  },
  {
   "cell_type": "code",
   "execution_count": null,
   "metadata": {},
   "outputs": [],
   "source": [
    "driver.get()"
   ]
  },
  {
   "cell_type": "code",
   "execution_count": null,
   "metadata": {},
   "outputs": [],
   "source": []
  },
  {
   "cell_type": "code",
   "execution_count": null,
   "metadata": {},
   "outputs": [],
   "source": []
  },
  {
   "cell_type": "code",
   "execution_count": null,
   "metadata": {},
   "outputs": [],
   "source": []
  },
  {
   "cell_type": "code",
   "execution_count": 1,
   "metadata": {},
   "outputs": [],
   "source": [
    "from assets.utils.driver import get_driver, get_text_by_xpath, get_button, open_new_tab, scroll_to_end\n",
    "from assets.utils.re import extract_number\n",
    "from assets.utils.json import read_json, write_json\n",
    "import time\n",
    "from tqdm import tqdm\n",
    "\n",
    "CUSTOM_FILE_PATH = './data/custom.json'\n",
    "\n",
    "def get_movie_id(driver, xpath):\n",
    "    button = get_button(driver, xpath, by='xpath')\n",
    "    \n",
    "    open_new_tab(driver, button)\n",
    "    \n",
    "    # 모든 탭 확인\n",
    "    tabs = driver.window_handles\n",
    "\n",
    "    # 새 탭으로 전환\n",
    "    driver.switch_to.window(tabs[1])\n",
    "    \n",
    "    movie_id = driver.current_url.split('/')[-1]\n",
    "    \n",
    "    # 작업 후 새 탭 닫기\n",
    "    driver.close()\n",
    "    \n",
    "    # 원래 탭으로 전환\n",
    "    driver.switch_to.window(tabs[0])\n",
    "\n",
    "    return movie_id\n",
    "\n",
    "\n",
    "def write_ratings(custom_id:str, update=bool):\n",
    "    # json 파일에 작성\n",
    "    data = read_json(CUSTOM_FILE_PATH)\n",
    "    \n",
    "    if not update:\n",
    "        if custom_id in data.keys():\n",
    "            return \"End\" \n",
    "        \n",
    "    driver = get_driver(use_headless=True)\n",
    "    \n",
    "    # 평가한 영화수 구하기\n",
    "    url = f\"https://pedia.watcha.com/ko-KR/users/{custom_id}/ratings\"\n",
    "    driver.get(url)\n",
    "\n",
    "    time.sleep(0.5)\n",
    "\n",
    "    n_rating_movies = int(extract_number(get_text_by_xpath(driver, \"/html/body/div/div[1]/section/div/ul/li[1]/div/div[1]/a/h2/span\")))\n",
    "\n",
    "\n",
    "    # 평가한 영화 정보 구하기\n",
    "    url = f\"https://pedia.watcha.com/ko-KR/users/{custom_id}/contents/movies/ratings\"\n",
    "    driver.get(url)\n",
    "\n",
    "    scroll_to_end(driver)\n",
    "        \n",
    "    movies = {}\n",
    "\n",
    "    for i in tqdm(range(1, n_rating_movies+1), position=0, desc=\"Movies\"):\n",
    "        try:\n",
    "            movie_name = get_text_by_xpath(driver, f'//*[@id=\"root\"]/div[1]/section/section/div[1]/section/div[1]/div/ul/li[{i}]/a/div[2]/div[1]')\n",
    "            time.sleep(0.1)\n",
    "            rating = get_text_by_xpath(driver, f'//*[@id=\"root\"]/div[1]/section/section/div[1]/section/div[1]/div/ul/li[{i}]/a/div[2]/div[2]')\n",
    "            time.sleep(0.1)\n",
    "            movie_id = get_text_by_xpath(driver, f'//*[@id=\"root\"]/div[1]/section/section/div[1]/section/div[1]/div/ul/li[{i}]/a/div[2]/div[1]')\n",
    "            time.sleep(0.1)\n",
    "                        \n",
    "            movies[movie_id] = {\"movie_name\":movie_name, \"rating\":rating, \"movie_id\":movie_id}\n",
    "\n",
    "        except Exception as e:\n",
    "            print(e)\n",
    "                        \n",
    "    \n",
    "    data[custom_id] = {\"n_rating_movies\": n_rating_movies, \"movies\": movies}\n",
    "  \n",
    "    write_json(CUSTOM_FILE_PATH, data)\n",
    "\n",
    "    driver.quit()"
   ]
  },
  {
   "cell_type": "code",
   "execution_count": null,
   "metadata": {},
   "outputs": [],
   "source": []
  },
  {
   "cell_type": "code",
   "execution_count": null,
   "metadata": {},
   "outputs": [],
   "source": []
  },
  {
   "cell_type": "code",
   "execution_count": null,
   "metadata": {},
   "outputs": [],
   "source": []
  },
  {
   "cell_type": "code",
   "execution_count": null,
   "metadata": {},
   "outputs": [],
   "source": []
  },
  {
   "cell_type": "code",
   "execution_count": 2,
   "metadata": {},
   "outputs": [],
   "source": [
    "from assets.utils.json import read_json, write_json\n",
    "\n",
    "CUSTOM_FILE_PATH = './data/custom.json'\n",
    "MOVIE_FILE_PATH = './data/movie.json'\n",
    "\n",
    "custom_data = read_json(CUSTOM_FILE_PATH)\n",
    "movie_data = read_json(MOVIE_FILE_PATH)"
   ]
  },
  {
   "cell_type": "code",
   "execution_count": null,
   "metadata": {},
   "outputs": [],
   "source": [
    "custom_ids = []\n",
    "\n",
    "for key, item in movie_data.items():\n",
    "    for comment in item['comments_list']:\n",
    "        custom_ids.append(comment['custom_id'])"
   ]
  },
  {
   "cell_type": "code",
   "execution_count": 4,
   "metadata": {},
   "outputs": [],
   "source": [
    "tmp = list(set(custom_ids))"
   ]
  },
  {
   "cell_type": "code",
   "execution_count": null,
   "metadata": {},
   "outputs": [
    {
     "name": "stderr",
     "output_type": "stream",
     "text": [
      "Customers:   0%|          | 0/11797 [00:00<?, ?it/s]"
     ]
    },
    {
     "name": "stderr",
     "output_type": "stream",
     "text": [
      "Movies: 100%|██████████| 1026/1026 [27:35<00:00,  1.61s/it]\n",
      "Movies: 100%|██████████| 836/836 [24:12<00:00,  1.74s/it]07.43s/it]\n",
      "Movies: 100%|██████████| 2608/2608 [1:19:11<00:00,  1.82s/it]3s/it]\n",
      "Movies:  10%|█         | 198/1897 [05:11<58:27,  2.06s/it] 089.35s/it]"
     ]
    }
   ],
   "source": [
    "for custom_id in tqdm(tmp, position=0, desc=\"Customers\"):\n",
    "    write_ratings(custom_id, update=False)"
   ]
  },
  {
   "cell_type": "code",
   "execution_count": null,
   "metadata": {},
   "outputs": [],
   "source": []
  }
 ],
 "metadata": {
  "kernelspec": {
   "display_name": "chatbot_3.10.8",
   "language": "python",
   "name": "python3"
  },
  "language_info": {
   "codemirror_mode": {
    "name": "ipython",
    "version": 3
   },
   "file_extension": ".py",
   "mimetype": "text/x-python",
   "name": "python",
   "nbconvert_exporter": "python",
   "pygments_lexer": "ipython3",
   "version": "3.10.15"
  }
 },
 "nbformat": 4,
 "nbformat_minor": 2
}
