{
 "cells": [
  {
   "cell_type": "markdown",
   "metadata": {},
   "source": [
    "# movie id 구하기 \n",
    "유저 rating 페이지에서 id구하기"
   ]
  },
  {
   "cell_type": "code",
   "execution_count": 1,
   "metadata": {},
   "outputs": [],
   "source": [
    "from assets.utils.driver import get_driver, scroll_to_end\n",
    "\n",
    "driver = get_driver(chrome_driver_path='./chromedriver-mac-arm64/chromedriver',\n",
    "                    use_headless=True)"
   ]
  },
  {
   "cell_type": "code",
   "execution_count": 36,
   "metadata": {},
   "outputs": [],
   "source": [
    "custom_id = \"ZBm5R0Mj7qd46\""
   ]
  },
  {
   "cell_type": "code",
   "execution_count": 2,
   "metadata": {},
   "outputs": [],
   "source": [
    "driver.get('https://pedia.watcha.com/en-KR/users/ZBm5R0Mj7qd46/contents/movies/ratings')"
   ]
  },
  {
   "cell_type": "code",
   "execution_count": 3,
   "metadata": {},
   "outputs": [
    {
     "name": "stdout",
     "output_type": "stream",
     "text": [
      "Scroll down end\n"
     ]
    }
   ],
   "source": [
    "scroll_to_end(driver, verbose=True, max_n_retries=10, delay=1)"
   ]
  },
  {
   "cell_type": "code",
   "execution_count": 4,
   "metadata": {},
   "outputs": [],
   "source": [
    "from selenium import webdriver\n",
    "from bs4 import BeautifulSoup\n",
    "from lxml import etree\n",
    "\n",
    "# 2. 페이지의 HTML 가져오기\n",
    "html_source = driver.page_source\n",
    "\n",
    "# 3. BeautifulSoup으로 HTML 파싱\n",
    "soup = BeautifulSoup(html_source, 'html.parser')\n",
    "\n",
    "# 4. BeautifulSoup 객체를 lxml로 변환\n",
    "tree = etree.HTML(str(soup))"
   ]
  },
  {
   "cell_type": "code",
   "execution_count": 1,
   "metadata": {},
   "outputs": [],
   "source": [
    "from assets.utils.re import extract_number\n",
    "\n",
    "def append_to_txt(file_name, data):\n",
    "    \"\"\"\n",
    "    데이터를 /로 구분하여 txt 파일에 추가합니다.\n",
    "    \"\"\"\n",
    "    line = \"/\".join(map(str, data)) + \"\\n\"  # 데이터를 /로 구분하여 한 줄 생성\n",
    "    with open(file_name, \"a\", encoding=\"utf-8\") as file:\n",
    "        file.write(line)\n",
    "    # print(f\"'{line.strip()}'이 {file_name}에 추가되었습니다.\")"
   ]
  },
  {
   "cell_type": "code",
   "execution_count": 5,
   "metadata": {},
   "outputs": [
    {
     "name": "stdout",
     "output_type": "stream",
     "text": [
      "name 'tree' is not defined\n"
     ]
    }
   ],
   "source": [
    "data_list = []\n",
    "\n",
    "i = 1\n",
    "\n",
    "while True:\n",
    "    try:\n",
    "        movie_id = tree.xpath(f'//*[@id=\"root\"]/div[1]/section/section/div[1]/section/div[1]/div/ul/li[{i}]/a/@href')[0].split('/')[-1]\n",
    "        movie_name = tree.xpath(f'//*[@id=\"root\"]/div[1]/section/section/div[1]/section/div[1]/div/ul/li[{i}]/a/div[2]/div[1]/text()')[0]\n",
    "        movie_rate = extract_number(tree.xpath(f'//*[@id=\"root\"]/div[1]/section/section/div[1]/section/div[1]/div/ul/li[{i}]/a/div[2]/div[2]/text()')[0])\n",
    "        \n",
    "        data = [movie_id, movie_name, movie_rate]\n",
    "        data_list.append(data)\n",
    "        i += 1\n",
    "    except Exception as e:\n",
    "        print(e)\n",
    "        break"
   ]
  },
  {
   "cell_type": "code",
   "execution_count": null,
   "metadata": {},
   "outputs": [],
   "source": [
    "for data in data_list:\n",
    "    append_to_txt(\"./data/movie_txt.txt\", data)"
   ]
  },
  {
   "cell_type": "code",
   "execution_count": null,
   "metadata": {},
   "outputs": [],
   "source": []
  },
  {
   "cell_type": "code",
   "execution_count": null,
   "metadata": {},
   "outputs": [],
   "source": []
  },
  {
   "cell_type": "code",
   "execution_count": null,
   "metadata": {},
   "outputs": [],
   "source": []
  },
  {
   "cell_type": "code",
   "execution_count": null,
   "metadata": {},
   "outputs": [],
   "source": []
  }
 ],
 "metadata": {
  "kernelspec": {
   "display_name": "chatbot_3.10.8",
   "language": "python",
   "name": "python3"
  },
  "language_info": {
   "codemirror_mode": {
    "name": "ipython",
    "version": 3
   },
   "file_extension": ".py",
   "mimetype": "text/x-python",
   "name": "python",
   "nbconvert_exporter": "python",
   "pygments_lexer": "ipython3",
   "version": "3.10.15"
  }
 },
 "nbformat": 4,
 "nbformat_minor": 2
}
