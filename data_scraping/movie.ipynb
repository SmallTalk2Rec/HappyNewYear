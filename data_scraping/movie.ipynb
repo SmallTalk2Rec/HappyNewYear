{
 "cells": [
  {
   "cell_type": "code",
   "execution_count": 4,
   "metadata": {},
   "outputs": [],
   "source": [
    "from assets.utils.json import read_json, write_json\n",
    "\n",
    "CUSTOM_FILE_PATH = './data/custom.json'\n",
    "MOVIE_FILE_PATH = './data/movie.json'\n",
    "\n",
    "custom_data = read_json(CUSTOM_FILE_PATH)"
   ]
  },
  {
   "cell_type": "code",
   "execution_count": null,
   "metadata": {},
   "outputs": [
    {
     "name": "stderr",
     "output_type": "stream",
     "text": [
      "  1%|          | 4/749 [1:49:10<338:54:16, 1637.66s/it]"
     ]
    },
    {
     "name": "stdout",
     "output_type": "stream",
     "text": [
      "move_to requires a WebElement\n"
     ]
    },
    {
     "name": "stderr",
     "output_type": "stream",
     "text": [
      "  1%|          | 5/749 [1:57:23<276:09:41, 1336.27s/it]"
     ]
    },
    {
     "name": "stdout",
     "output_type": "stream",
     "text": [
      "move_to requires a WebElement\n"
     ]
    },
    {
     "name": "stderr",
     "output_type": "stream",
     "text": [
      "  1%|          | 6/749 [2:34:40<326:37:45, 1582.59s/it]"
     ]
    },
    {
     "name": "stdout",
     "output_type": "stream",
     "text": [
      "move_to requires a WebElement\n"
     ]
    },
    {
     "name": "stderr",
     "output_type": "stream",
     "text": [
      "  1%|          | 7/749 [2:58:33<317:32:15, 1540.61s/it]"
     ]
    },
    {
     "name": "stdout",
     "output_type": "stream",
     "text": [
      "move_to requires a WebElement\n"
     ]
    },
    {
     "name": "stderr",
     "output_type": "stream",
     "text": [
      "  1%|          | 8/749 [3:23:56<316:01:33, 1535.35s/it]"
     ]
    },
    {
     "name": "stdout",
     "output_type": "stream",
     "text": [
      "move_to requires a WebElement\n"
     ]
    },
    {
     "name": "stderr",
     "output_type": "stream",
     "text": [
      "  1%|          | 9/749 [3:31:40<251:42:14, 1224.51s/it]"
     ]
    },
    {
     "name": "stdout",
     "output_type": "stream",
     "text": [
      "move_to requires a WebElement\n"
     ]
    },
    {
     "name": "stderr",
     "output_type": "stream",
     "text": [
      "  1%|▏         | 10/749 [4:14:24<331:57:36, 1617.13s/it]"
     ]
    },
    {
     "name": "stdout",
     "output_type": "stream",
     "text": [
      "move_to requires a WebElement\n"
     ]
    },
    {
     "name": "stderr",
     "output_type": "stream",
     "text": [
      "  1%|▏         | 11/749 [4:17:42<245:40:19, 1198.40s/it]"
     ]
    },
    {
     "name": "stdout",
     "output_type": "stream",
     "text": [
      "move_to requires a WebElement\n"
     ]
    },
    {
     "name": "stderr",
     "output_type": "stream",
     "text": [
      "  2%|▏         | 12/749 [4:46:02<275:46:39, 1347.08s/it]"
     ]
    },
    {
     "name": "stdout",
     "output_type": "stream",
     "text": [
      "move_to requires a WebElement\n"
     ]
    },
    {
     "name": "stderr",
     "output_type": "stream",
     "text": [
      "  2%|▏         | 13/749 [4:54:28<224:11:51, 1096.62s/it]"
     ]
    },
    {
     "name": "stdout",
     "output_type": "stream",
     "text": [
      "move_to requires a WebElement\n"
     ]
    },
    {
     "name": "stderr",
     "output_type": "stream",
     "text": [
      "  2%|▏         | 14/749 [4:56:55<166:04:42, 813.45s/it] "
     ]
    },
    {
     "name": "stdout",
     "output_type": "stream",
     "text": [
      "move_to requires a WebElement\n"
     ]
    },
    {
     "name": "stderr",
     "output_type": "stream",
     "text": [
      "  2%|▏         | 15/749 [6:22:01<427:23:56, 2096.23s/it]"
     ]
    },
    {
     "name": "stdout",
     "output_type": "stream",
     "text": [
      "move_to requires a WebElement\n"
     ]
    },
    {
     "name": "stderr",
     "output_type": "stream",
     "text": [
      "  2%|▏         | 16/749 [7:14:52<492:17:22, 2417.79s/it]"
     ]
    },
    {
     "name": "stdout",
     "output_type": "stream",
     "text": [
      "move_to requires a WebElement\n"
     ]
    }
   ],
   "source": [
    "from tqdm import tqdm\n",
    "from assets.scraping.watcha.movie import get_watch_infos\n",
    "from assets.utils.driver import get_driver\n",
    "\n",
    "driver = get_driver()\n",
    " \n",
    "for movie_id in tqdm(list(custom_data['yKZx3yykDv4dJ']['movies'].keys())):    \n",
    "    data = read_json(MOVIE_FILE_PATH)\n",
    "    \n",
    "    if movie_id not in data.keys():\n",
    "        watcha_infos = get_watch_infos(driver, movie_id, n_comment=None)\n",
    "        data[movie_id] = watcha_infos\n",
    "        \n",
    "        write_json(MOVIE_FILE_PATH, data)\n",
    "\n",
    "driver.quit()"
   ]
  },
  {
   "cell_type": "code",
   "execution_count": null,
   "metadata": {},
   "outputs": [],
   "source": []
  }
 ],
 "metadata": {
  "kernelspec": {
   "display_name": "bnvitt-chatbot",
   "language": "python",
   "name": "python3"
  },
  "language_info": {
   "codemirror_mode": {
    "name": "ipython",
    "version": 3
   },
   "file_extension": ".py",
   "mimetype": "text/x-python",
   "name": "python",
   "nbconvert_exporter": "python",
   "pygments_lexer": "ipython3",
   "version": "3.10.8"
  }
 },
 "nbformat": 4,
 "nbformat_minor": 2
}
