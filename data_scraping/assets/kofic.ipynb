{
 "cells": [
  {
   "cell_type": "markdown",
   "metadata": {},
   "source": [
    "https://www.kobis.or.kr/kobisopenapi/homepg/apiservice/searchServiceInfo.do?serviceId=searchMovieInfo"
   ]
  },
  {
   "cell_type": "code",
   "execution_count": 6,
   "metadata": {},
   "outputs": [],
   "source": [
    "import os\n",
    "from dotenv import load_dotenv\n",
    "load_dotenv()\n",
    "kofic_api_key = os.getenv('KOFIC_API_KEY')"
   ]
  },
  {
   "cell_type": "code",
   "execution_count": 38,
   "metadata": {},
   "outputs": [
    {
     "name": "stdout",
     "output_type": "stream",
     "text": [
      "영화명: 크레센도, 감독: 헤더 윌크\n",
      "영화명: 남친이 군대 간 사이, 감독: \n",
      "영화명: 교환부부의 세계3 ： 그들만의 은밀한 테크닉, 감독: \n",
      "영화명: 술집에서 몰래 하는 사이, 감독: 핑마\n",
      "영화명: AS기사 유혹하는 여주인, 감독: 핑마\n",
      "영화명: 여대생 가사도우미, 감독: \n",
      "영화명: mz 자매의 목적, 감독: 함성한\n",
      "영화명: 새엄마 아빠에게는 비밀로 해요, 감독: \n",
      "영화명: 여사장 : 월급대신 떡, 감독: \n",
      "영화명: 우리동네 미용실 ： 2대1서비스, 감독: 한마음\n",
      "영화명: 그녀의 PS파트너, 감독: \n",
      "영화명: 젖 큰 가정교사와 이대일 2, 감독: 조현규\n",
      "영화명: 어린 처제2, 감독: \n",
      "영화명: 결혼을 반대한 형이 아내를 건드렸다, 감독: 핑마\n",
      "영화명: 직장 내 부부 교환 섹스, 감독: 핑마\n",
      "영화명: 상담받다 물터진 미시녀2, 감독: 카리노나 마이\n",
      "영화명: 괴물, 감독: 고레에다 히로카즈\n",
      "영화명: 이상한 나라의 달빛요정, 감독: 알리 사마디 아하디\n",
      "영화명: 대외비, 감독: 이원태\n",
      "영화명: 초대의 법칙, 감독: \n",
      "영화명: 블루 자이언트, 감독: 타치카와 유즈루\n",
      "영화명: 드림팰리스, 감독: 가성문\n",
      "영화명: 악마들, 감독: 김재훈\n",
      "영화명: 거룩한 술꾼의 전설, 감독: 에르마노 올미\n",
      "영화명: 애프터썬, 감독: \n",
      "영화명: 괴인, 감독: 이정홍\n",
      "영화명: 내 아내를 임신시켜줘, 감독: 한동연\n",
      "영화명: 리향, 감독: 신재천\n",
      "영화명: 2022 심규선 단독 콘서트 [밤의 정원: 앙코르], 감독: 이승남\n",
      "영화명: 카운트, 감독: 권혁재\n",
      "영화명: 어른 김장하, 감독: 김현지\n",
      "영화명: 밀수, 감독: 류승완\n",
      "영화명: 섹스에 빠진 제수씨 무삭제판, 감독: 사쿠라비토\n",
      "영화명: 소울메이트, 감독: 민용근\n",
      "영화명: 화사한 그녀, 감독: 이승준\n",
      "영화명: 화란, 감독: 김창훈\n",
      "영화명: 프리 철수 리, 감독: 하줄리, 이성민\n",
      "영화명: 폭로, 감독: 홍용호\n",
      "영화명: 치악산, 감독: 김선웅\n",
      "영화명: 천박사 퇴마 연구소: 설경의 비밀, 감독: 김성식\n",
      "영화명: 지옥만세, 감독: 임오정\n",
      "영화명: 절해고도, 감독: 김미영\n",
      "영화명: 잠, 감독: 유재선\n",
      "영화명: 작은정원, 감독: 이마리오\n",
      "영화명: 우리의 하루, 감독: 홍상수\n",
      "영화명: 용감한 시민, 감독: 박진표\n",
      "영화명: 약속, 감독: 민병훈\n",
      "영화명: 싱글 인 서울, 감독: 박범수\n",
      "영화명: 신체모음.zip, 감독: 최원경, 전병덕, 이광진, 지삼, 김장미, 서형우\n",
      "영화명: 서울의 봄, 감독: 김성수\n",
      "영화명: 사채소년, 감독: 황동석\n",
      "영화명: 뽀로로 극장판 슈퍼스타 대모험, 감독: 윤제완, 김성민\n",
      "영화명: 믿을 수 있는 사람, 감독: 곽은미\n",
      "영화명: 물귀신, 감독: 임지훈\n",
      "영화명: 룩앳미 터치미 키스미, 감독: 호 유항, 제나르 마에사 아유, 김태식\n",
      "영화명: 독친, 감독: 김수인\n",
      "영화명: 도티와 영원의 탑, 감독: 배완, 양희성, 박인한\n",
      "영화명: 더 문, 감독: 김용화\n",
      "영화명: 달짝지근해: 7510, 감독: 이한\n",
      "영화명: 느티나무 아래, 감독: 오정훈\n",
      "영화명: 뉴 노멀, 감독: 정범식\n",
      "영화명: 노량: 죽음의 바다, 감독: 김한민\n",
      "영화명: 나의 피투성이 연인, 감독: 유지영\n",
      "영화명: 극장판 우당탕탕 은하안전단: 진정한 용기!, 감독: 정지훈\n",
      "영화명: 그녀의 취미생활, 감독: 하명미\n",
      "영화명: 교토에서 온 편지, 감독: 김민주\n",
      "영화명: 거미집, 감독: 김지운\n",
      "영화명: 1947 보스톤, 감독: 강제규\n",
      "영화명: 30일, 감독: 남대중\n",
      "영화명: 납치: 사라진 메구미, 감독: \n",
      "영화명: 오늘 출가합니다, 감독: 김성환\n",
      "영화명: 아줌마, 감독: 허 슈밍\n",
      "영화명: 바람개비, 감독: 이상훈\n",
      "영화명: 비밀, 감독: 임경호, 소준범\n",
      "영화명: 3일의 휴가, 감독: 육상효\n",
      "영화명: 르네에게, 감독: 강승원\n",
      "영화명: 5시부터 7시까지의 주희, 감독: 장건재\n",
      "영화명: 비밀의 언덕, 감독: 이지은\n",
      "영화명: 시간을 꿈꾸는 소녀, 감독: 박혁지\n",
      "영화명: 괴담만찬, 감독: 안상훈, 윤은경, 김용균, 임대웅, 채여준\n",
      "영화명: 남은 인생 10년, 감독: 후지이 미치히토\n",
      "영화명: 어디로 가고 싶으신가요, 감독: 김희정\n",
      "영화명: 만해 한용운 님의침묵, 감독: 한명구\n",
      "영화명: 나비효과, 감독: 민준기, 전원창\n",
      "영화명: 울지마 엄마, 감독: 이호경\n",
      "영화명: 연악: 나의 운명, 감독: 박한열\n",
      "영화명: 어느 날 그녀가 우주에서, 감독: 구상범\n",
      "영화명: 흠뻑채운 젖은 속살, 감독: 오오사키히로하루\n",
      "영화명: 탐욕에 젖은 섹스, 감독: 잠파\n",
      "영화명: 탐욕스런 동침, 감독: 오오사키히로하루\n",
      "영화명: 타락한 유부녀의 유혹, 감독: 잠파\n",
      "영화명: 젖어버린 속살, 감독: \n",
      "영화명: 유부녀의 욕망 속살, 감독: 오오사키히로하루\n",
      "영화명: 유부녀의 비밀스런 사정, 감독: 오오사키히로하루\n",
      "영화명: 옆집 유부녀의 속사정, 감독: 오오사키히로하루\n",
      "영화명: 아버님이 채운 유부녀, 감독: \n",
      "영화명: 자우림, 더 원더랜드, 감독: 김지환, 허민\n",
      "영화명: 콘크리트 유토피아, 감독: 엄태화\n",
      "영화명: 사랑의 불시착: 라이브 인 서울, 감독: 박재석\n",
      "영화명: 두다다쿵: 후후섬의 비밀, 감독: 최병선, 김지윤\n"
     ]
    }
   ],
   "source": [
    "import requests\n",
    "\n",
    "def get_movie_list(api_key, cur_page=1, item_per_page=10, movie_nm=None, director_nm=None,\n",
    "                   open_start_dt=None, open_end_dt=None, prdt_start_year=None, prdt_end_year=None,\n",
    "                   rep_nation_cd=None, movie_type_cd=None):\n",
    "    \"\"\"\n",
    "    영화목록 조회 함수\n",
    "    :param api_key: API 키 (필수)\n",
    "    :param cur_page: 현재 페이지 번호 (기본값: 1)\n",
    "    :param item_per_page: 페이지당 출력할 항목 수 (기본값: 10, 최댓값: 100)\n",
    "    :param movie_nm: 영화명\n",
    "    :param director_nm: 감독명\n",
    "    :param open_start_dt: 조회 시작 개봉연도 (YYYY)\n",
    "    :param open_end_dt: 조회 종료 개봉연도 (YYYY)\n",
    "    :param prdt_start_year: 조회 시작 제작연도 (YYYY)\n",
    "    :param prdt_end_year: 조회 종료 제작연도 (YYYY)\n",
    "    :param rep_nation_cd: 대표 제작 국가 코드\n",
    "    :param movie_type_cd: 영화 유형 코드\n",
    "    :return: 영화 목록 데이터 (JSON)\n",
    "    \"\"\"\n",
    "    base_url = \"http://www.kobis.or.kr/kobisopenapi/webservice/rest/movie/searchMovieList.json\"\n",
    "    params = {\n",
    "        \"key\": api_key,\n",
    "        \"curPage\": cur_page,\n",
    "        \"itemPerPage\": item_per_page,\n",
    "        \"movieNm\": movie_nm,\n",
    "        \"directorNm\": director_nm,\n",
    "        \"openStartDt\": open_start_dt,\n",
    "        \"openEndDt\": open_end_dt,\n",
    "        \"prdtStartYear\": prdt_start_year,\n",
    "        \"prdtEndYear\": prdt_end_year,\n",
    "        \"repNationCd\": rep_nation_cd,\n",
    "        \"movieTypeCd\": movie_type_cd,\n",
    "    }\n",
    "\n",
    "    # API 호출\n",
    "    response = requests.get(base_url, params=params)\n",
    "    \n",
    "    # 요청 상태 확인\n",
    "    if response.status_code == 200:\n",
    "        return response.json()  # JSON 데이터 반환\n",
    "    else:\n",
    "        print(f\"Error: {response.status_code}, {response.text}\")\n",
    "        return None\n",
    "\n",
    "\n",
    "# 예시: 영화 목록 조회\n",
    "movie_list = get_movie_list(api_key=kofic_api_key, \n",
    "                            open_start_dt=\"2023\", \n",
    "                            open_end_dt=\"2023\",\n",
    "                            item_per_page=100)\n",
    "\n",
    "# 결과 출력\n",
    "if movie_list:\n",
    "    for movie in movie_list.get(\"movieListResult\", {}).get(\"movieList\", []):\n",
    "        print(f\"영화명: {movie.get('movieNm')}, 감독: {', '.join([d.get('peopleNm', '') for d in movie.get('directors', [])])}\")\n"
   ]
  },
  {
   "cell_type": "code",
   "execution_count": 37,
   "metadata": {},
   "outputs": [
    {
     "data": {
      "text/plain": [
       "{'faultInfo': {'message': '검색년도는 4자리 숫자 문자열입니다.(YYYY)[parameterName=openStartDt,parameterValue=2023-10-01]',\n",
       "  'errorCode': '320217'}}"
      ]
     },
     "execution_count": 37,
     "metadata": {},
     "output_type": "execute_result"
    }
   ],
   "source": [
    "movie_list"
   ]
  },
  {
   "cell_type": "code",
   "execution_count": 28,
   "metadata": {},
   "outputs": [
    {
     "ename": "KeyError",
     "evalue": "'movieListResult'",
     "output_type": "error",
     "traceback": [
      "\u001b[1;31m---------------------------------------------------------------------------\u001b[0m",
      "\u001b[1;31mKeyError\u001b[0m                                  Traceback (most recent call last)",
      "Cell \u001b[1;32mIn[28], line 1\u001b[0m\n\u001b[1;32m----> 1\u001b[0m \u001b[38;5;28mlen\u001b[39m(\u001b[43mmovie_list\u001b[49m\u001b[43m[\u001b[49m\u001b[38;5;124;43m'\u001b[39;49m\u001b[38;5;124;43mmovieListResult\u001b[39;49m\u001b[38;5;124;43m'\u001b[39;49m\u001b[43m]\u001b[49m[\u001b[38;5;124m'\u001b[39m\u001b[38;5;124mmovieList\u001b[39m\u001b[38;5;124m'\u001b[39m])\n",
      "\u001b[1;31mKeyError\u001b[0m: 'movieListResult'"
     ]
    }
   ],
   "source": [
    "len(movie_list['movieListResult']['movieList'])"
   ]
  },
  {
   "cell_type": "code",
   "execution_count": null,
   "metadata": {},
   "outputs": [],
   "source": []
  },
  {
   "cell_type": "code",
   "execution_count": null,
   "metadata": {},
   "outputs": [],
   "source": []
  }
 ],
 "metadata": {
  "kernelspec": {
   "display_name": "bnvitt-chatbot",
   "language": "python",
   "name": "python3"
  },
  "language_info": {
   "codemirror_mode": {
    "name": "ipython",
    "version": 3
   },
   "file_extension": ".py",
   "mimetype": "text/x-python",
   "name": "python",
   "nbconvert_exporter": "python",
   "pygments_lexer": "ipython3",
   "version": "3.10.8"
  }
 },
 "nbformat": 4,
 "nbformat_minor": 2
}
